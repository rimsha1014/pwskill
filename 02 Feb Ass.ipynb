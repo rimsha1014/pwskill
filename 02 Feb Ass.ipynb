{
 "cells": [
  {
   "cell_type": "code",
   "execution_count": null,
   "id": "f51a8177",
   "metadata": {},
   "outputs": [],
   "source": [
    "'''\n",
    "Q1. What are the characteristics of the tuples? Is tuple immutable?\n",
    "\n",
    "Answer 1- \n",
    "1. Tuple is immutable datatype, that is it can't be changed after its creation\n",
    "2. The elements in tuple are ordered and can have duplicate values.\n",
    "3. It can store element of different data types\n",
    "\n",
    "Yes, It is immutable data type.\n",
    "'''"
   ]
  },
  {
   "cell_type": "code",
   "execution_count": null,
   "id": "7daf0735",
   "metadata": {},
   "outputs": [],
   "source": [
    "'''\n",
    "Q2. What are the two tuple methods in python? Give an example of each method. Give a reason why\n",
    "tuples have only two in-built methods as compared to Lists.\n",
    "'''"
   ]
  },
  {
   "cell_type": "markdown",
   "id": "3f23f45b",
   "metadata": {},
   "source": [
    "#Answer 2\n",
    "The two methods in tuple are:\n",
    "1. Count\n",
    "2. Index"
   ]
  },
  {
   "cell_type": "code",
   "execution_count": 2,
   "id": "df0d2146",
   "metadata": {},
   "outputs": [
    {
     "name": "stdout",
     "output_type": "stream",
     "text": [
      "3\n"
     ]
    }
   ],
   "source": [
    "# Eg:-\n",
    "my_tuple = (1, 2, 2, 3, 2, 4, 5)\n",
    "print(my_tuple.count(2))"
   ]
  },
  {
   "cell_type": "code",
   "execution_count": 3,
   "id": "8a8d7d15",
   "metadata": {},
   "outputs": [
    {
     "name": "stdout",
     "output_type": "stream",
     "text": [
      "1\n"
     ]
    }
   ],
   "source": [
    "my_tuple = ('a', 'b', 'c', 'b', 'd') \n",
    "print(my_tuple.index('b')) "
   ]
  },
  {
   "cell_type": "code",
   "execution_count": null,
   "id": "b8146a5c",
   "metadata": {},
   "outputs": [],
   "source": [
    "'''\n",
    "Tuples have only two built-in methods as compared to lists, the main reason is tuple is immutable. \n",
    "Tuples elements cannot be changed once the tuple is created. \n",
    "Therefore, methods like append, insert, or remove that modify the tuple are not applicable.\n",
    "'''"
   ]
  },
  {
   "cell_type": "code",
   "execution_count": null,
   "id": "2b380dca",
   "metadata": {},
   "outputs": [],
   "source": [
    "'''\n",
    "Q3. Which collection datatypes in python do not allow duplicate items? Write a code using a set to remove\n",
    "duplicates from the given list.\n",
    "List = [1, 1, 1, 2, 1, 3, 1, 4, 2, 1, 2, 2, 2, 3, 2, 4, 3, 1, 3, 2, 3, 3, 3, 4, 4, 1, 4, 2, 4, 3, 4, 4]\n",
    "'''"
   ]
  },
  {
   "cell_type": "code",
   "execution_count": null,
   "id": "64abd8a7",
   "metadata": {},
   "outputs": [],
   "source": [
    "# Answer 3\n",
    "'''\n",
    "Set data type does not allow duplicates items.\n",
    "print(set(List))\n",
    "'''"
   ]
  },
  {
   "cell_type": "code",
   "execution_count": null,
   "id": "e30cabb5",
   "metadata": {},
   "outputs": [],
   "source": [
    "'''\n",
    "Q4. Explain the difference between the union() and update() methods for a set. Give an example of\n",
    "each method.\n",
    "'''"
   ]
  },
  {
   "cell_type": "code",
   "execution_count": null,
   "id": "2f7bc83e",
   "metadata": {},
   "outputs": [],
   "source": [
    "# Answer 4\n",
    "'''\n",
    "The union() method returns a new set that contains all the unique elements from both sets. \n",
    "It does not modify the original sets where as The update() method modifies the set on whichit is called by adding all the\n",
    "unique elements from another set (or any iterable) into it.\n",
    "'''"
   ]
  },
  {
   "cell_type": "code",
   "execution_count": 4,
   "id": "d996eaad",
   "metadata": {},
   "outputs": [
    {
     "name": "stdout",
     "output_type": "stream",
     "text": [
      "{1, 2, 3, 4, 5}\n"
     ]
    }
   ],
   "source": [
    "# Example\n",
    "set1 = {1, 2, 3}\n",
    "set2 = {3, 4, 5}\n",
    "union_set = set1.union(set2)\n",
    "print(union_set)  \n"
   ]
  },
  {
   "cell_type": "code",
   "execution_count": null,
   "id": "195556d3",
   "metadata": {},
   "outputs": [],
   "source": [
    "# Example\n",
    "set1 = {1, 2, 3}\n",
    "set2 = {3, 4, 5}\n",
    "set1.update(set2)\n",
    "print(set1) "
   ]
  },
  {
   "cell_type": "code",
   "execution_count": null,
   "id": "b582bb9a",
   "metadata": {},
   "outputs": [],
   "source": [
    "'''\n",
    "Q5. What is a dictionary? Give an example. Also, state whether a dictionary is ordered or unordered.\n",
    "'''"
   ]
  },
  {
   "cell_type": "code",
   "execution_count": null,
   "id": "06be95a0",
   "metadata": {},
   "outputs": [],
   "source": [
    "# Answer 5\n",
    "'''\n",
    "A dictionary is a collecetion of key value pairs which is unordered and mutable in nature.\n",
    "In dictionary, keys are immutable data type and values are immutable/mutable data type\n",
    "Eg - my_dict = {\"name\": \"Rimsha\", \"age\": 25, \"city\": \"Delhi\"}\n",
    "\n",
    "dictionary is unordered.\n",
    "\n",
    "'''"
   ]
  },
  {
   "cell_type": "code",
   "execution_count": null,
   "id": "aa0653cd",
   "metadata": {},
   "outputs": [],
   "source": [
    "'''\n",
    "Q6. Can we create a nested dictionary? If so, please give an example by creating a simple one-level\n",
    "nested dictionary.\n",
    "'''"
   ]
  },
  {
   "cell_type": "code",
   "execution_count": null,
   "id": "b7336907",
   "metadata": {},
   "outputs": [],
   "source": [
    "# Answer 6\n",
    "'''\n",
    "Yes, it is possible to create a nested dictionary in Python.\n",
    "A nested dictionary is a dictionary where the values are themselves dictionaries. \n",
    "\n",
    "'''"
   ]
  },
  {
   "cell_type": "code",
   "execution_count": null,
   "id": "9230a671",
   "metadata": {},
   "outputs": [],
   "source": [
    "student_records = {\n",
    "    \"Rimsha\": {\n",
    "        \"age\": 20,\n",
    "        \"grade\": \"A\"\n",
    "    },\n",
    "    \"Srishti\": {\n",
    "        \"age\": 19,\n",
    "        \"grade\": \"B\"\n",
    "    },\n",
    "    \"Arbaz\": {\n",
    "        \"age\": 21,\n",
    "        \"grade\": \"A+\"\n",
    "    }\n",
    "}"
   ]
  },
  {
   "cell_type": "code",
   "execution_count": null,
   "id": "0910c895",
   "metadata": {},
   "outputs": [],
   "source": [
    "'''\n",
    "Q7. Using setdefault() method, create key named topics in the given dictionary and also add the value of\n",
    "the key as this list ['Python', 'Machine Learning’, 'Deep Learning']\n",
    "dict1 = {'language' : 'Python', 'course': 'Data Science Masters'}\n",
    "'''"
   ]
  },
  {
   "cell_type": "code",
   "execution_count": 1,
   "id": "d7246e33",
   "metadata": {},
   "outputs": [
    {
     "name": "stdout",
     "output_type": "stream",
     "text": [
      "{'language': 'Python', 'course': 'Data Science Masters', 'topics': ['Python', 'Machine Learning', 'Deep Learning']}\n"
     ]
    }
   ],
   "source": [
    "# Answer\n",
    "dict1 = {'language': 'Python', 'course': 'Data Science Masters'}\n",
    "dict1.setdefault('topics', ['Python', 'Machine Learning', 'Deep Learning'])\n",
    "\n",
    "print(dict1)\n"
   ]
  },
  {
   "cell_type": "code",
   "execution_count": null,
   "id": "5b024861",
   "metadata": {},
   "outputs": [],
   "source": [
    "'''\n",
    "Q8. What are the three view objects in dictionaries? Use the three in-built methods in python to display\n",
    "these three view objects for the given dictionary.\n",
    "dict1 = {'Sport': 'Cricket' , 'Teams': ['India', 'Australia', 'England', 'South Africa', 'Sri Lanka', 'New Zealand']}\n",
    "'''"
   ]
  },
  {
   "cell_type": "code",
   "execution_count": null,
   "id": "d5872141",
   "metadata": {},
   "outputs": [],
   "source": [
    "# Answer \n",
    "'''\n",
    "the three view objects in dictionaries are:\n",
    "1. dict_keys\n",
    "2. dict_values\n",
    "3. dict_items\n",
    "'''\n"
   ]
  },
  {
   "cell_type": "code",
   "execution_count": 2,
   "id": "33596544",
   "metadata": {},
   "outputs": [
    {
     "name": "stdout",
     "output_type": "stream",
     "text": [
      "dict_keys(['Sport', 'Teams'])\n",
      "dict_values(['Cricket', ['India', 'Australia', 'England', 'South Africa', 'Sri Lanka', 'New Zealand']])\n",
      "dict_items([('Sport', 'Cricket'), ('Teams', ['India', 'Australia', 'England', 'South Africa', 'Sri Lanka', 'New Zealand'])])\n"
     ]
    }
   ],
   "source": [
    "dict1 = {'Sport': 'Cricket' , 'Teams': ['India', 'Australia', 'England', 'South Africa', 'Sri Lanka', 'New Zealand']}\n",
    "print(dict1.keys())\n",
    "print(dict1.values())\n",
    "print(dict1.items())"
   ]
  }
 ],
 "metadata": {
  "kernelspec": {
   "display_name": "Python 3 (ipykernel)",
   "language": "python",
   "name": "python3"
  },
  "language_info": {
   "codemirror_mode": {
    "name": "ipython",
    "version": 3
   },
   "file_extension": ".py",
   "mimetype": "text/x-python",
   "name": "python",
   "nbconvert_exporter": "python",
   "pygments_lexer": "ipython3",
   "version": "3.10.5"
  }
 },
 "nbformat": 4,
 "nbformat_minor": 5
}
